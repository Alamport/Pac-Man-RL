{
  "nbformat": 4,
  "nbformat_minor": 0,
  "metadata": {
    "colab": {
      "provenance": [],
      "gpuType": "T4",
      "collapsed_sections": [
        "JzPSIFMPPkMi",
        "aR6gu2SqxPXa"
      ],
      "include_colab_link": true
    },
    "kernelspec": {
      "name": "python3",
      "display_name": "Python 3"
    },
    "language_info": {
      "name": "python"
    },
    "accelerator": "GPU",
    "widgets": {
      "application/vnd.jupyter.widget-state+json": {
        "77d9d93a4eb64576a4c2dfe5c0468ebc": {
          "model_module": "@jupyter-widgets/controls",
          "model_name": "VBoxModel",
          "model_module_version": "1.5.0",
          "state": {
            "_dom_classes": [],
            "_model_module": "@jupyter-widgets/controls",
            "_model_module_version": "1.5.0",
            "_model_name": "VBoxModel",
            "_view_count": null,
            "_view_module": "@jupyter-widgets/controls",
            "_view_module_version": "1.5.0",
            "_view_name": "VBoxView",
            "box_style": "",
            "children": [
              "IPY_MODEL_8167420ce7b54add97f697766068c053",
              "IPY_MODEL_7f0352d1ba6d44688bda3fe4870d4d3c",
              "IPY_MODEL_f27165469ca24ddf8db81857d5de6b85",
              "IPY_MODEL_e6fe4ef250344ac5ab57e83c1a5902f6"
            ],
            "layout": "IPY_MODEL_ee99bde9ccc94d899a7c0b90c49eacb8"
          }
        },
        "a09ef556f9ef4ee2ac21219579798c2c": {
          "model_module": "@jupyter-widgets/controls",
          "model_name": "HTMLModel",
          "model_module_version": "1.5.0",
          "state": {
            "_dom_classes": [],
            "_model_module": "@jupyter-widgets/controls",
            "_model_module_version": "1.5.0",
            "_model_name": "HTMLModel",
            "_view_count": null,
            "_view_module": "@jupyter-widgets/controls",
            "_view_module_version": "1.5.0",
            "_view_name": "HTMLView",
            "description": "",
            "description_tooltip": null,
            "layout": "IPY_MODEL_03106fe32b5b4f3da6b71853cceb8bf2",
            "placeholder": "​",
            "style": "IPY_MODEL_977757d33d7c483bb4d2badec2457b71",
            "value": "<center> <img\nsrc=https://huggingface.co/front/assets/huggingface_logo-noborder.svg\nalt='Hugging Face'> <br> Copy a token from <a\nhref=\"https://huggingface.co/settings/tokens\" target=\"_blank\">your Hugging Face\ntokens page</a> and paste it below. <br> Immediately click login after copying\nyour token or it might be stored in plain text in this notebook file. </center>"
          }
        },
        "5dee28e475f847a08a421e837fe063eb": {
          "model_module": "@jupyter-widgets/controls",
          "model_name": "PasswordModel",
          "model_module_version": "1.5.0",
          "state": {
            "_dom_classes": [],
            "_model_module": "@jupyter-widgets/controls",
            "_model_module_version": "1.5.0",
            "_model_name": "PasswordModel",
            "_view_count": null,
            "_view_module": "@jupyter-widgets/controls",
            "_view_module_version": "1.5.0",
            "_view_name": "PasswordView",
            "continuous_update": true,
            "description": "Token:",
            "description_tooltip": null,
            "disabled": false,
            "layout": "IPY_MODEL_c74ae0d7e2334516be6e0cf67b336477",
            "placeholder": "​",
            "style": "IPY_MODEL_c316913b60974ada8088d899b1c57d9c",
            "value": ""
          }
        },
        "d63213e27ba942c495f55674d00cd9a6": {
          "model_module": "@jupyter-widgets/controls",
          "model_name": "CheckboxModel",
          "model_module_version": "1.5.0",
          "state": {
            "_dom_classes": [],
            "_model_module": "@jupyter-widgets/controls",
            "_model_module_version": "1.5.0",
            "_model_name": "CheckboxModel",
            "_view_count": null,
            "_view_module": "@jupyter-widgets/controls",
            "_view_module_version": "1.5.0",
            "_view_name": "CheckboxView",
            "description": "Add token as git credential?",
            "description_tooltip": null,
            "disabled": false,
            "indent": true,
            "layout": "IPY_MODEL_a8913142e3864462a8fa3bf0368931d6",
            "style": "IPY_MODEL_7871fc52ea71487fa3c499783c90de7a",
            "value": true
          }
        },
        "dc9305c985e24e73872fe2491c361a01": {
          "model_module": "@jupyter-widgets/controls",
          "model_name": "ButtonModel",
          "model_module_version": "1.5.0",
          "state": {
            "_dom_classes": [],
            "_model_module": "@jupyter-widgets/controls",
            "_model_module_version": "1.5.0",
            "_model_name": "ButtonModel",
            "_view_count": null,
            "_view_module": "@jupyter-widgets/controls",
            "_view_module_version": "1.5.0",
            "_view_name": "ButtonView",
            "button_style": "",
            "description": "Login",
            "disabled": false,
            "icon": "",
            "layout": "IPY_MODEL_f7f8bcee7f8140a298837edf2747281f",
            "style": "IPY_MODEL_203d65ff03674b7ebf24665da63707e8",
            "tooltip": ""
          }
        },
        "8ad2cb89048149e487f341647a20fba2": {
          "model_module": "@jupyter-widgets/controls",
          "model_name": "HTMLModel",
          "model_module_version": "1.5.0",
          "state": {
            "_dom_classes": [],
            "_model_module": "@jupyter-widgets/controls",
            "_model_module_version": "1.5.0",
            "_model_name": "HTMLModel",
            "_view_count": null,
            "_view_module": "@jupyter-widgets/controls",
            "_view_module_version": "1.5.0",
            "_view_name": "HTMLView",
            "description": "",
            "description_tooltip": null,
            "layout": "IPY_MODEL_753156c4825f49beb25f835793195850",
            "placeholder": "​",
            "style": "IPY_MODEL_10de2577989348baaceb1071c9128fed",
            "value": "\n<b>Pro Tip:</b> If you don't already have one, you can create a dedicated\n'notebooks' token with 'write' access, that you can then easily reuse for all\nnotebooks. </center>"
          }
        },
        "ee99bde9ccc94d899a7c0b90c49eacb8": {
          "model_module": "@jupyter-widgets/base",
          "model_name": "LayoutModel",
          "model_module_version": "1.2.0",
          "state": {
            "_model_module": "@jupyter-widgets/base",
            "_model_module_version": "1.2.0",
            "_model_name": "LayoutModel",
            "_view_count": null,
            "_view_module": "@jupyter-widgets/base",
            "_view_module_version": "1.2.0",
            "_view_name": "LayoutView",
            "align_content": null,
            "align_items": "center",
            "align_self": null,
            "border": null,
            "bottom": null,
            "display": "flex",
            "flex": null,
            "flex_flow": "column",
            "grid_area": null,
            "grid_auto_columns": null,
            "grid_auto_flow": null,
            "grid_auto_rows": null,
            "grid_column": null,
            "grid_gap": null,
            "grid_row": null,
            "grid_template_areas": null,
            "grid_template_columns": null,
            "grid_template_rows": null,
            "height": null,
            "justify_content": null,
            "justify_items": null,
            "left": null,
            "margin": null,
            "max_height": null,
            "max_width": null,
            "min_height": null,
            "min_width": null,
            "object_fit": null,
            "object_position": null,
            "order": null,
            "overflow": null,
            "overflow_x": null,
            "overflow_y": null,
            "padding": null,
            "right": null,
            "top": null,
            "visibility": null,
            "width": "50%"
          }
        },
        "03106fe32b5b4f3da6b71853cceb8bf2": {
          "model_module": "@jupyter-widgets/base",
          "model_name": "LayoutModel",
          "model_module_version": "1.2.0",
          "state": {
            "_model_module": "@jupyter-widgets/base",
            "_model_module_version": "1.2.0",
            "_model_name": "LayoutModel",
            "_view_count": null,
            "_view_module": "@jupyter-widgets/base",
            "_view_module_version": "1.2.0",
            "_view_name": "LayoutView",
            "align_content": null,
            "align_items": null,
            "align_self": null,
            "border": null,
            "bottom": null,
            "display": null,
            "flex": null,
            "flex_flow": null,
            "grid_area": null,
            "grid_auto_columns": null,
            "grid_auto_flow": null,
            "grid_auto_rows": null,
            "grid_column": null,
            "grid_gap": null,
            "grid_row": null,
            "grid_template_areas": null,
            "grid_template_columns": null,
            "grid_template_rows": null,
            "height": null,
            "justify_content": null,
            "justify_items": null,
            "left": null,
            "margin": null,
            "max_height": null,
            "max_width": null,
            "min_height": null,
            "min_width": null,
            "object_fit": null,
            "object_position": null,
            "order": null,
            "overflow": null,
            "overflow_x": null,
            "overflow_y": null,
            "padding": null,
            "right": null,
            "top": null,
            "visibility": null,
            "width": null
          }
        },
        "977757d33d7c483bb4d2badec2457b71": {
          "model_module": "@jupyter-widgets/controls",
          "model_name": "DescriptionStyleModel",
          "model_module_version": "1.5.0",
          "state": {
            "_model_module": "@jupyter-widgets/controls",
            "_model_module_version": "1.5.0",
            "_model_name": "DescriptionStyleModel",
            "_view_count": null,
            "_view_module": "@jupyter-widgets/base",
            "_view_module_version": "1.2.0",
            "_view_name": "StyleView",
            "description_width": ""
          }
        },
        "c74ae0d7e2334516be6e0cf67b336477": {
          "model_module": "@jupyter-widgets/base",
          "model_name": "LayoutModel",
          "model_module_version": "1.2.0",
          "state": {
            "_model_module": "@jupyter-widgets/base",
            "_model_module_version": "1.2.0",
            "_model_name": "LayoutModel",
            "_view_count": null,
            "_view_module": "@jupyter-widgets/base",
            "_view_module_version": "1.2.0",
            "_view_name": "LayoutView",
            "align_content": null,
            "align_items": null,
            "align_self": null,
            "border": null,
            "bottom": null,
            "display": null,
            "flex": null,
            "flex_flow": null,
            "grid_area": null,
            "grid_auto_columns": null,
            "grid_auto_flow": null,
            "grid_auto_rows": null,
            "grid_column": null,
            "grid_gap": null,
            "grid_row": null,
            "grid_template_areas": null,
            "grid_template_columns": null,
            "grid_template_rows": null,
            "height": null,
            "justify_content": null,
            "justify_items": null,
            "left": null,
            "margin": null,
            "max_height": null,
            "max_width": null,
            "min_height": null,
            "min_width": null,
            "object_fit": null,
            "object_position": null,
            "order": null,
            "overflow": null,
            "overflow_x": null,
            "overflow_y": null,
            "padding": null,
            "right": null,
            "top": null,
            "visibility": null,
            "width": null
          }
        },
        "c316913b60974ada8088d899b1c57d9c": {
          "model_module": "@jupyter-widgets/controls",
          "model_name": "DescriptionStyleModel",
          "model_module_version": "1.5.0",
          "state": {
            "_model_module": "@jupyter-widgets/controls",
            "_model_module_version": "1.5.0",
            "_model_name": "DescriptionStyleModel",
            "_view_count": null,
            "_view_module": "@jupyter-widgets/base",
            "_view_module_version": "1.2.0",
            "_view_name": "StyleView",
            "description_width": ""
          }
        },
        "a8913142e3864462a8fa3bf0368931d6": {
          "model_module": "@jupyter-widgets/base",
          "model_name": "LayoutModel",
          "model_module_version": "1.2.0",
          "state": {
            "_model_module": "@jupyter-widgets/base",
            "_model_module_version": "1.2.0",
            "_model_name": "LayoutModel",
            "_view_count": null,
            "_view_module": "@jupyter-widgets/base",
            "_view_module_version": "1.2.0",
            "_view_name": "LayoutView",
            "align_content": null,
            "align_items": null,
            "align_self": null,
            "border": null,
            "bottom": null,
            "display": null,
            "flex": null,
            "flex_flow": null,
            "grid_area": null,
            "grid_auto_columns": null,
            "grid_auto_flow": null,
            "grid_auto_rows": null,
            "grid_column": null,
            "grid_gap": null,
            "grid_row": null,
            "grid_template_areas": null,
            "grid_template_columns": null,
            "grid_template_rows": null,
            "height": null,
            "justify_content": null,
            "justify_items": null,
            "left": null,
            "margin": null,
            "max_height": null,
            "max_width": null,
            "min_height": null,
            "min_width": null,
            "object_fit": null,
            "object_position": null,
            "order": null,
            "overflow": null,
            "overflow_x": null,
            "overflow_y": null,
            "padding": null,
            "right": null,
            "top": null,
            "visibility": null,
            "width": null
          }
        },
        "7871fc52ea71487fa3c499783c90de7a": {
          "model_module": "@jupyter-widgets/controls",
          "model_name": "DescriptionStyleModel",
          "model_module_version": "1.5.0",
          "state": {
            "_model_module": "@jupyter-widgets/controls",
            "_model_module_version": "1.5.0",
            "_model_name": "DescriptionStyleModel",
            "_view_count": null,
            "_view_module": "@jupyter-widgets/base",
            "_view_module_version": "1.2.0",
            "_view_name": "StyleView",
            "description_width": ""
          }
        },
        "f7f8bcee7f8140a298837edf2747281f": {
          "model_module": "@jupyter-widgets/base",
          "model_name": "LayoutModel",
          "model_module_version": "1.2.0",
          "state": {
            "_model_module": "@jupyter-widgets/base",
            "_model_module_version": "1.2.0",
            "_model_name": "LayoutModel",
            "_view_count": null,
            "_view_module": "@jupyter-widgets/base",
            "_view_module_version": "1.2.0",
            "_view_name": "LayoutView",
            "align_content": null,
            "align_items": null,
            "align_self": null,
            "border": null,
            "bottom": null,
            "display": null,
            "flex": null,
            "flex_flow": null,
            "grid_area": null,
            "grid_auto_columns": null,
            "grid_auto_flow": null,
            "grid_auto_rows": null,
            "grid_column": null,
            "grid_gap": null,
            "grid_row": null,
            "grid_template_areas": null,
            "grid_template_columns": null,
            "grid_template_rows": null,
            "height": null,
            "justify_content": null,
            "justify_items": null,
            "left": null,
            "margin": null,
            "max_height": null,
            "max_width": null,
            "min_height": null,
            "min_width": null,
            "object_fit": null,
            "object_position": null,
            "order": null,
            "overflow": null,
            "overflow_x": null,
            "overflow_y": null,
            "padding": null,
            "right": null,
            "top": null,
            "visibility": null,
            "width": null
          }
        },
        "203d65ff03674b7ebf24665da63707e8": {
          "model_module": "@jupyter-widgets/controls",
          "model_name": "ButtonStyleModel",
          "model_module_version": "1.5.0",
          "state": {
            "_model_module": "@jupyter-widgets/controls",
            "_model_module_version": "1.5.0",
            "_model_name": "ButtonStyleModel",
            "_view_count": null,
            "_view_module": "@jupyter-widgets/base",
            "_view_module_version": "1.2.0",
            "_view_name": "StyleView",
            "button_color": null,
            "font_weight": ""
          }
        },
        "753156c4825f49beb25f835793195850": {
          "model_module": "@jupyter-widgets/base",
          "model_name": "LayoutModel",
          "model_module_version": "1.2.0",
          "state": {
            "_model_module": "@jupyter-widgets/base",
            "_model_module_version": "1.2.0",
            "_model_name": "LayoutModel",
            "_view_count": null,
            "_view_module": "@jupyter-widgets/base",
            "_view_module_version": "1.2.0",
            "_view_name": "LayoutView",
            "align_content": null,
            "align_items": null,
            "align_self": null,
            "border": null,
            "bottom": null,
            "display": null,
            "flex": null,
            "flex_flow": null,
            "grid_area": null,
            "grid_auto_columns": null,
            "grid_auto_flow": null,
            "grid_auto_rows": null,
            "grid_column": null,
            "grid_gap": null,
            "grid_row": null,
            "grid_template_areas": null,
            "grid_template_columns": null,
            "grid_template_rows": null,
            "height": null,
            "justify_content": null,
            "justify_items": null,
            "left": null,
            "margin": null,
            "max_height": null,
            "max_width": null,
            "min_height": null,
            "min_width": null,
            "object_fit": null,
            "object_position": null,
            "order": null,
            "overflow": null,
            "overflow_x": null,
            "overflow_y": null,
            "padding": null,
            "right": null,
            "top": null,
            "visibility": null,
            "width": null
          }
        },
        "10de2577989348baaceb1071c9128fed": {
          "model_module": "@jupyter-widgets/controls",
          "model_name": "DescriptionStyleModel",
          "model_module_version": "1.5.0",
          "state": {
            "_model_module": "@jupyter-widgets/controls",
            "_model_module_version": "1.5.0",
            "_model_name": "DescriptionStyleModel",
            "_view_count": null,
            "_view_module": "@jupyter-widgets/base",
            "_view_module_version": "1.2.0",
            "_view_name": "StyleView",
            "description_width": ""
          }
        },
        "7924a9bbf4c142cebddb356edbf6fae4": {
          "model_module": "@jupyter-widgets/controls",
          "model_name": "LabelModel",
          "model_module_version": "1.5.0",
          "state": {
            "_dom_classes": [],
            "_model_module": "@jupyter-widgets/controls",
            "_model_module_version": "1.5.0",
            "_model_name": "LabelModel",
            "_view_count": null,
            "_view_module": "@jupyter-widgets/controls",
            "_view_module_version": "1.5.0",
            "_view_name": "LabelView",
            "description": "",
            "description_tooltip": null,
            "layout": "IPY_MODEL_c47cbec7631d4960acc969717813cdcf",
            "placeholder": "​",
            "style": "IPY_MODEL_814062350b64470d93dc0ccde7f48793",
            "value": "Connecting..."
          }
        },
        "c47cbec7631d4960acc969717813cdcf": {
          "model_module": "@jupyter-widgets/base",
          "model_name": "LayoutModel",
          "model_module_version": "1.2.0",
          "state": {
            "_model_module": "@jupyter-widgets/base",
            "_model_module_version": "1.2.0",
            "_model_name": "LayoutModel",
            "_view_count": null,
            "_view_module": "@jupyter-widgets/base",
            "_view_module_version": "1.2.0",
            "_view_name": "LayoutView",
            "align_content": null,
            "align_items": null,
            "align_self": null,
            "border": null,
            "bottom": null,
            "display": null,
            "flex": null,
            "flex_flow": null,
            "grid_area": null,
            "grid_auto_columns": null,
            "grid_auto_flow": null,
            "grid_auto_rows": null,
            "grid_column": null,
            "grid_gap": null,
            "grid_row": null,
            "grid_template_areas": null,
            "grid_template_columns": null,
            "grid_template_rows": null,
            "height": null,
            "justify_content": null,
            "justify_items": null,
            "left": null,
            "margin": null,
            "max_height": null,
            "max_width": null,
            "min_height": null,
            "min_width": null,
            "object_fit": null,
            "object_position": null,
            "order": null,
            "overflow": null,
            "overflow_x": null,
            "overflow_y": null,
            "padding": null,
            "right": null,
            "top": null,
            "visibility": null,
            "width": null
          }
        },
        "814062350b64470d93dc0ccde7f48793": {
          "model_module": "@jupyter-widgets/controls",
          "model_name": "DescriptionStyleModel",
          "model_module_version": "1.5.0",
          "state": {
            "_model_module": "@jupyter-widgets/controls",
            "_model_module_version": "1.5.0",
            "_model_name": "DescriptionStyleModel",
            "_view_count": null,
            "_view_module": "@jupyter-widgets/base",
            "_view_module_version": "1.2.0",
            "_view_name": "StyleView",
            "description_width": ""
          }
        },
        "8167420ce7b54add97f697766068c053": {
          "model_module": "@jupyter-widgets/controls",
          "model_name": "LabelModel",
          "model_module_version": "1.5.0",
          "state": {
            "_dom_classes": [],
            "_model_module": "@jupyter-widgets/controls",
            "_model_module_version": "1.5.0",
            "_model_name": "LabelModel",
            "_view_count": null,
            "_view_module": "@jupyter-widgets/controls",
            "_view_module_version": "1.5.0",
            "_view_name": "LabelView",
            "description": "",
            "description_tooltip": null,
            "layout": "IPY_MODEL_c6bf768b12c84d3aa953e4003b6a743b",
            "placeholder": "​",
            "style": "IPY_MODEL_f1d26d5f9c004dd9b11dbf3f54191e25",
            "value": "Token is valid (permission: write)."
          }
        },
        "7f0352d1ba6d44688bda3fe4870d4d3c": {
          "model_module": "@jupyter-widgets/controls",
          "model_name": "LabelModel",
          "model_module_version": "1.5.0",
          "state": {
            "_dom_classes": [],
            "_model_module": "@jupyter-widgets/controls",
            "_model_module_version": "1.5.0",
            "_model_name": "LabelModel",
            "_view_count": null,
            "_view_module": "@jupyter-widgets/controls",
            "_view_module_version": "1.5.0",
            "_view_name": "LabelView",
            "description": "",
            "description_tooltip": null,
            "layout": "IPY_MODEL_0db8440227684b61ac1449b6f5a92a5a",
            "placeholder": "​",
            "style": "IPY_MODEL_be622ea52ed4422db4cc5de057aaaf67",
            "value": "Your token has been saved in your configured git credential helpers (store)."
          }
        },
        "f27165469ca24ddf8db81857d5de6b85": {
          "model_module": "@jupyter-widgets/controls",
          "model_name": "LabelModel",
          "model_module_version": "1.5.0",
          "state": {
            "_dom_classes": [],
            "_model_module": "@jupyter-widgets/controls",
            "_model_module_version": "1.5.0",
            "_model_name": "LabelModel",
            "_view_count": null,
            "_view_module": "@jupyter-widgets/controls",
            "_view_module_version": "1.5.0",
            "_view_name": "LabelView",
            "description": "",
            "description_tooltip": null,
            "layout": "IPY_MODEL_6a6c06587d084e7f91fc4ee0e3dcc020",
            "placeholder": "​",
            "style": "IPY_MODEL_3f180d2d4bd2433ebbf6c52fcf8346cb",
            "value": "Your token has been saved to /root/.cache/huggingface/token"
          }
        },
        "e6fe4ef250344ac5ab57e83c1a5902f6": {
          "model_module": "@jupyter-widgets/controls",
          "model_name": "LabelModel",
          "model_module_version": "1.5.0",
          "state": {
            "_dom_classes": [],
            "_model_module": "@jupyter-widgets/controls",
            "_model_module_version": "1.5.0",
            "_model_name": "LabelModel",
            "_view_count": null,
            "_view_module": "@jupyter-widgets/controls",
            "_view_module_version": "1.5.0",
            "_view_name": "LabelView",
            "description": "",
            "description_tooltip": null,
            "layout": "IPY_MODEL_204816bcaaf84678bdeabbebb5182758",
            "placeholder": "​",
            "style": "IPY_MODEL_cc9a6a644d6f451298df9d15256e29ff",
            "value": "Login successful"
          }
        },
        "c6bf768b12c84d3aa953e4003b6a743b": {
          "model_module": "@jupyter-widgets/base",
          "model_name": "LayoutModel",
          "model_module_version": "1.2.0",
          "state": {
            "_model_module": "@jupyter-widgets/base",
            "_model_module_version": "1.2.0",
            "_model_name": "LayoutModel",
            "_view_count": null,
            "_view_module": "@jupyter-widgets/base",
            "_view_module_version": "1.2.0",
            "_view_name": "LayoutView",
            "align_content": null,
            "align_items": null,
            "align_self": null,
            "border": null,
            "bottom": null,
            "display": null,
            "flex": null,
            "flex_flow": null,
            "grid_area": null,
            "grid_auto_columns": null,
            "grid_auto_flow": null,
            "grid_auto_rows": null,
            "grid_column": null,
            "grid_gap": null,
            "grid_row": null,
            "grid_template_areas": null,
            "grid_template_columns": null,
            "grid_template_rows": null,
            "height": null,
            "justify_content": null,
            "justify_items": null,
            "left": null,
            "margin": null,
            "max_height": null,
            "max_width": null,
            "min_height": null,
            "min_width": null,
            "object_fit": null,
            "object_position": null,
            "order": null,
            "overflow": null,
            "overflow_x": null,
            "overflow_y": null,
            "padding": null,
            "right": null,
            "top": null,
            "visibility": null,
            "width": null
          }
        },
        "f1d26d5f9c004dd9b11dbf3f54191e25": {
          "model_module": "@jupyter-widgets/controls",
          "model_name": "DescriptionStyleModel",
          "model_module_version": "1.5.0",
          "state": {
            "_model_module": "@jupyter-widgets/controls",
            "_model_module_version": "1.5.0",
            "_model_name": "DescriptionStyleModel",
            "_view_count": null,
            "_view_module": "@jupyter-widgets/base",
            "_view_module_version": "1.2.0",
            "_view_name": "StyleView",
            "description_width": ""
          }
        },
        "0db8440227684b61ac1449b6f5a92a5a": {
          "model_module": "@jupyter-widgets/base",
          "model_name": "LayoutModel",
          "model_module_version": "1.2.0",
          "state": {
            "_model_module": "@jupyter-widgets/base",
            "_model_module_version": "1.2.0",
            "_model_name": "LayoutModel",
            "_view_count": null,
            "_view_module": "@jupyter-widgets/base",
            "_view_module_version": "1.2.0",
            "_view_name": "LayoutView",
            "align_content": null,
            "align_items": null,
            "align_self": null,
            "border": null,
            "bottom": null,
            "display": null,
            "flex": null,
            "flex_flow": null,
            "grid_area": null,
            "grid_auto_columns": null,
            "grid_auto_flow": null,
            "grid_auto_rows": null,
            "grid_column": null,
            "grid_gap": null,
            "grid_row": null,
            "grid_template_areas": null,
            "grid_template_columns": null,
            "grid_template_rows": null,
            "height": null,
            "justify_content": null,
            "justify_items": null,
            "left": null,
            "margin": null,
            "max_height": null,
            "max_width": null,
            "min_height": null,
            "min_width": null,
            "object_fit": null,
            "object_position": null,
            "order": null,
            "overflow": null,
            "overflow_x": null,
            "overflow_y": null,
            "padding": null,
            "right": null,
            "top": null,
            "visibility": null,
            "width": null
          }
        },
        "be622ea52ed4422db4cc5de057aaaf67": {
          "model_module": "@jupyter-widgets/controls",
          "model_name": "DescriptionStyleModel",
          "model_module_version": "1.5.0",
          "state": {
            "_model_module": "@jupyter-widgets/controls",
            "_model_module_version": "1.5.0",
            "_model_name": "DescriptionStyleModel",
            "_view_count": null,
            "_view_module": "@jupyter-widgets/base",
            "_view_module_version": "1.2.0",
            "_view_name": "StyleView",
            "description_width": ""
          }
        },
        "6a6c06587d084e7f91fc4ee0e3dcc020": {
          "model_module": "@jupyter-widgets/base",
          "model_name": "LayoutModel",
          "model_module_version": "1.2.0",
          "state": {
            "_model_module": "@jupyter-widgets/base",
            "_model_module_version": "1.2.0",
            "_model_name": "LayoutModel",
            "_view_count": null,
            "_view_module": "@jupyter-widgets/base",
            "_view_module_version": "1.2.0",
            "_view_name": "LayoutView",
            "align_content": null,
            "align_items": null,
            "align_self": null,
            "border": null,
            "bottom": null,
            "display": null,
            "flex": null,
            "flex_flow": null,
            "grid_area": null,
            "grid_auto_columns": null,
            "grid_auto_flow": null,
            "grid_auto_rows": null,
            "grid_column": null,
            "grid_gap": null,
            "grid_row": null,
            "grid_template_areas": null,
            "grid_template_columns": null,
            "grid_template_rows": null,
            "height": null,
            "justify_content": null,
            "justify_items": null,
            "left": null,
            "margin": null,
            "max_height": null,
            "max_width": null,
            "min_height": null,
            "min_width": null,
            "object_fit": null,
            "object_position": null,
            "order": null,
            "overflow": null,
            "overflow_x": null,
            "overflow_y": null,
            "padding": null,
            "right": null,
            "top": null,
            "visibility": null,
            "width": null
          }
        },
        "3f180d2d4bd2433ebbf6c52fcf8346cb": {
          "model_module": "@jupyter-widgets/controls",
          "model_name": "DescriptionStyleModel",
          "model_module_version": "1.5.0",
          "state": {
            "_model_module": "@jupyter-widgets/controls",
            "_model_module_version": "1.5.0",
            "_model_name": "DescriptionStyleModel",
            "_view_count": null,
            "_view_module": "@jupyter-widgets/base",
            "_view_module_version": "1.2.0",
            "_view_name": "StyleView",
            "description_width": ""
          }
        },
        "204816bcaaf84678bdeabbebb5182758": {
          "model_module": "@jupyter-widgets/base",
          "model_name": "LayoutModel",
          "model_module_version": "1.2.0",
          "state": {
            "_model_module": "@jupyter-widgets/base",
            "_model_module_version": "1.2.0",
            "_model_name": "LayoutModel",
            "_view_count": null,
            "_view_module": "@jupyter-widgets/base",
            "_view_module_version": "1.2.0",
            "_view_name": "LayoutView",
            "align_content": null,
            "align_items": null,
            "align_self": null,
            "border": null,
            "bottom": null,
            "display": null,
            "flex": null,
            "flex_flow": null,
            "grid_area": null,
            "grid_auto_columns": null,
            "grid_auto_flow": null,
            "grid_auto_rows": null,
            "grid_column": null,
            "grid_gap": null,
            "grid_row": null,
            "grid_template_areas": null,
            "grid_template_columns": null,
            "grid_template_rows": null,
            "height": null,
            "justify_content": null,
            "justify_items": null,
            "left": null,
            "margin": null,
            "max_height": null,
            "max_width": null,
            "min_height": null,
            "min_width": null,
            "object_fit": null,
            "object_position": null,
            "order": null,
            "overflow": null,
            "overflow_x": null,
            "overflow_y": null,
            "padding": null,
            "right": null,
            "top": null,
            "visibility": null,
            "width": null
          }
        },
        "cc9a6a644d6f451298df9d15256e29ff": {
          "model_module": "@jupyter-widgets/controls",
          "model_name": "DescriptionStyleModel",
          "model_module_version": "1.5.0",
          "state": {
            "_model_module": "@jupyter-widgets/controls",
            "_model_module_version": "1.5.0",
            "_model_name": "DescriptionStyleModel",
            "_view_count": null,
            "_view_module": "@jupyter-widgets/base",
            "_view_module_version": "1.2.0",
            "_view_name": "StyleView",
            "description_width": ""
          }
        }
      }
    }
  },
  "cells": [
    {
      "cell_type": "markdown",
      "metadata": {
        "id": "view-in-github",
        "colab_type": "text"
      },
      "source": [
        "<a href=\"https://colab.research.google.com/github/Alamport/Pac-Man-RL/blob/main/Pacman_RL.ipynb\" target=\"_parent\"><img src=\"https://colab.research.google.com/assets/colab-badge.svg\" alt=\"Open In Colab\"/></a>"
      ]
    },
    {
      "cell_type": "markdown",
      "source": [
        "# **Setup**"
      ],
      "metadata": {
        "id": "a18RNGbsRib5"
      }
    },
    {
      "cell_type": "code",
      "execution_count": null,
      "metadata": {
        "id": "5zx4RpuBVljf"
      },
      "outputs": [],
      "source": [
        "\"\"\"\n",
        "RL Baselines3 Zoo is a training framework for Reinforcement Learning\n",
        "\n",
        "It provides scripts for training, evaluating agents, tuning hyperparameters,\n",
        "plotting results and recording videos.\n",
        "\"\"\"\n",
        "!pip install git+https://github.com/DLR-RM/rl-baselines3-zoo"
      ]
    },
    {
      "cell_type": "code",
      "source": [
        "!apt-get install swig cmake ffmpeg"
      ],
      "metadata": {
        "id": "NyR65ngFWpQv"
      },
      "execution_count": null,
      "outputs": []
    },
    {
      "cell_type": "code",
      "source": [
        "!pip install gymnasium[atari]\n",
        "!pip install gymnasium[accept-rom-license]"
      ],
      "metadata": {
        "id": "X9kATxA-WuXt"
      },
      "execution_count": null,
      "outputs": []
    },
    {
      "cell_type": "code",
      "source": [
        "%%capture\n",
        "\"\"\"\n",
        "The difference between pip and apt\n",
        "----------------------------------\n",
        "pip:\n",
        " - installs python packages\n",
        " - only installs the modules in our project virtualenv if we create a virtual\n",
        "   environment\n",
        "  -\n",
        "apt:\n",
        " - installs packages created in any programming language\n",
        " - only hosts the latest version of a package(we cannot decide the version of\n",
        "                                              python-package that we want)\n",
        " - installs python modules in system-wide location\n",
        "\n",
        "In short:\n",
        "1) If in doubt, use apt, because it's your distributor's job to keep your\n",
        "software stack working together\n",
        "2) Never use pip unless you intend to install something into a folder only used\n",
        "for your current project and not by anything else on your system. Hence, the\n",
        "only realistic time you would want to use it is when you're using a Python\n",
        "virtualenv.\n",
        "\"\"\"\n",
        "!apt install python-opengl\n",
        "!apt install xvfb\n",
        "!pip3 install pyvirtualdisplay"
      ],
      "metadata": {
        "id": "w-WD8KKpXCUJ"
      },
      "execution_count": null,
      "outputs": []
    },
    {
      "cell_type": "code",
      "source": [
        "# Virtual display\n",
        "from pyvirtualdisplay import Display\n",
        "\n",
        "virtual_display = Display(visible=0, size=(1400, 900))\n",
        "virtual_display.start()"
      ],
      "metadata": {
        "id": "0_XKuseEXHoZ",
        "colab": {
          "base_uri": "https://localhost:8080/"
        },
        "outputId": "5486e0b8-6625-4666-b458-01bfac85606a"
      },
      "execution_count": null,
      "outputs": [
        {
          "output_type": "execute_result",
          "data": {
            "text/plain": [
              "<pyvirtualdisplay.display.Display at 0x7d59d62a2a70>"
            ]
          },
          "metadata": {},
          "execution_count": 13
        }
      ]
    },
    {
      "cell_type": "markdown",
      "source": [
        "# **Training**"
      ],
      "metadata": {
        "id": "hjcy1vY4Pr3u"
      }
    },
    {
      "cell_type": "code",
      "source": [
        "# Trains the agent based\n",
        "!python -m rl_zoo3.train --algo dqn  --env MsPacmanNoFrameskip-v4 -f logs/ -c settings.yml"
      ],
      "metadata": {
        "id": "ARNoQBn8xD6J",
        "outputId": "c8675736-9dfc-4567-8463-f40e01159ca0",
        "colab": {
          "base_uri": "https://localhost:8080/"
        }
      },
      "execution_count": null,
      "outputs": [
        {
          "output_type": "stream",
          "name": "stdout",
          "text": [
            "2024-06-28 20:26:47.855181: E external/local_xla/xla/stream_executor/cuda/cuda_dnn.cc:9261] Unable to register cuDNN factory: Attempting to register factory for plugin cuDNN when one has already been registered\n",
            "2024-06-28 20:26:47.855234: E external/local_xla/xla/stream_executor/cuda/cuda_fft.cc:607] Unable to register cuFFT factory: Attempting to register factory for plugin cuFFT when one has already been registered\n",
            "2024-06-28 20:26:47.856596: E external/local_xla/xla/stream_executor/cuda/cuda_blas.cc:1515] Unable to register cuBLAS factory: Attempting to register factory for plugin cuBLAS when one has already been registered\n",
            "2024-06-28 20:26:47.863770: I tensorflow/core/platform/cpu_feature_guard.cc:182] This TensorFlow binary is optimized to use available CPU instructions in performance-critical operations.\n",
            "To enable the following instructions: AVX2 AVX512F FMA, in other operations, rebuild TensorFlow with the appropriate compiler flags.\n",
            "2024-06-28 20:26:48.895010: W tensorflow/compiler/tf2tensorrt/utils/py_utils.cc:38] TF-TRT Warning: Could not find TensorRT\n",
            "========== MsPacmanNoFrameskip-v4 ==========\n",
            "Seed: 60566670\n",
            "Loading hyperparameters from: settings.yml\n",
            "Default hyperparameters for environment (ones being tuned will be overridden):\n",
            "OrderedDict([('batch_size', 32),\n",
            "             ('buffer_size', 100000),\n",
            "             ('env_wrapper',\n",
            "              ['stable_baselines3.common.atari_wrappers.AtariWrapper']),\n",
            "             ('exploration_final_eps', 0.01),\n",
            "             ('exploration_fraction', 0.1),\n",
            "             ('frame_stack', 4),\n",
            "             ('gradient_steps', 1),\n",
            "             ('learning_rate', 0.0001),\n",
            "             ('learning_starts', 100000),\n",
            "             ('n_timesteps', 100.0),\n",
            "             ('optimize_memory_usage', False),\n",
            "             ('policy', 'CnnPolicy'),\n",
            "             ('target_update_interval', 1000),\n",
            "             ('train_freq', 4)])\n",
            "Using 1 environments\n",
            "Creating test environment\n",
            "A.L.E: Arcade Learning Environment (version 0.8.1+53f58b7)\n",
            "[Powered by Stella]\n",
            "Stacking 4 frames\n",
            "Wrapping the env in a VecTransposeImage.\n",
            "Stacking 4 frames\n",
            "Wrapping the env in a VecTransposeImage.\n",
            "Using cuda device\n",
            "Log path: logs//dqn/MsPacmanNoFrameskip-v4_1\n",
            "Saving to logs//dqn/MsPacmanNoFrameskip-v4_1\n"
          ]
        }
      ]
    },
    {
      "cell_type": "markdown",
      "source": [
        "# **Record Video**\n",
        "\n",
        "The second cell contains code to delete the folder \"logs\" so Colab doesn't get overfilled with data. To do so, just uncomment the cell and run it.\n",
        "\n",
        "***You will lose data so download your data first if you want to save it***"
      ],
      "metadata": {
        "id": "JzPSIFMPPkMi"
      }
    },
    {
      "cell_type": "code",
      "source": [
        "!python -m rl_zoo3.record_video  --algo dqn  --env MsPacmanNoFrameskip-v4  --folder logs/  --n-timesteps 1000"
      ],
      "metadata": {
        "id": "j-TkpReXj4W7",
        "outputId": "f116a05d-2542-45f1-ccd5-b0fbd5a4b1fc",
        "colab": {
          "base_uri": "https://localhost:8080/"
        }
      },
      "execution_count": null,
      "outputs": [
        {
          "output_type": "stream",
          "name": "stdout",
          "text": [
            "2024-06-28 20:27:01.675307: E external/local_xla/xla/stream_executor/cuda/cuda_dnn.cc:9261] Unable to register cuDNN factory: Attempting to register factory for plugin cuDNN when one has already been registered\n",
            "2024-06-28 20:27:01.675366: E external/local_xla/xla/stream_executor/cuda/cuda_fft.cc:607] Unable to register cuFFT factory: Attempting to register factory for plugin cuFFT when one has already been registered\n",
            "2024-06-28 20:27:01.676643: E external/local_xla/xla/stream_executor/cuda/cuda_blas.cc:1515] Unable to register cuBLAS factory: Attempting to register factory for plugin cuBLAS when one has already been registered\n",
            "2024-06-28 20:27:01.683893: I tensorflow/core/platform/cpu_feature_guard.cc:182] This TensorFlow binary is optimized to use available CPU instructions in performance-critical operations.\n",
            "To enable the following instructions: AVX2 AVX512F FMA, in other operations, rebuild TensorFlow with the appropriate compiler flags.\n",
            "2024-06-28 20:27:02.706311: W tensorflow/compiler/tf2tensorrt/utils/py_utils.cc:38] TF-TRT Warning: Could not find TensorRT\n",
            "Loading latest experiment, id=1\n",
            "Loading logs/dqn/MsPacmanNoFrameskip-v4_1/MsPacmanNoFrameskip-v4.zip\n",
            "A.L.E: Arcade Learning Environment (version 0.8.1+53f58b7)\n",
            "[Powered by Stella]\n",
            "Stacking 4 frames\n",
            "Loading logs/dqn/MsPacmanNoFrameskip-v4_1/MsPacmanNoFrameskip-v4.zip\n",
            "Wrapping the env in a VecTransposeImage.\n",
            "/usr/local/lib/python3.10/dist-packages/gymnasium/utils/passive_env_checker.py:335: UserWarning: \u001b[33mWARN: No render fps was declared in the environment (env.metadata['render_fps'] is None or not defined), rendering may occur at inconsistent fps.\u001b[0m\n",
            "  logger.warn(\n",
            "Saving video to /content/logs/dqn/MsPacmanNoFrameskip-v4_1/videos/final-model-dqn-MsPacmanNoFrameskip-v4-step-0-to-step-1000.mp4\n",
            "Moviepy - Building video /content/logs/dqn/MsPacmanNoFrameskip-v4_1/videos/final-model-dqn-MsPacmanNoFrameskip-v4-step-0-to-step-1000.mp4.\n",
            "Moviepy - Writing video /content/logs/dqn/MsPacmanNoFrameskip-v4_1/videos/final-model-dqn-MsPacmanNoFrameskip-v4-step-0-to-step-1000.mp4\n",
            "\n",
            "Moviepy - Done !\n",
            "Moviepy - video ready /content/logs/dqn/MsPacmanNoFrameskip-v4_1/videos/final-model-dqn-MsPacmanNoFrameskip-v4-step-0-to-step-1000.mp4\n"
          ]
        }
      ]
    },
    {
      "cell_type": "code",
      "source": [
        "# !ls logs\n",
        "# !rm -rf logs/*"
      ],
      "metadata": {
        "id": "P3A9NRH3A8Sj"
      },
      "execution_count": null,
      "outputs": []
    },
    {
      "cell_type": "markdown",
      "source": [
        "# **Evaluate**"
      ],
      "metadata": {
        "id": "Oh0mPgEeP-CM"
      }
    },
    {
      "cell_type": "code",
      "source": [
        "!python -m rl_zoo3.enjoy  --algo dqn  --env MsPacmanNoFrameskip-v4  --no-render  --n-timesteps 5000  --folder logs/"
      ],
      "metadata": {
        "id": "025WYRZdY152",
        "outputId": "e754a869-93b0-492f-fa6c-cf9f90251ba4",
        "colab": {
          "base_uri": "https://localhost:8080/"
        }
      },
      "execution_count": null,
      "outputs": [
        {
          "output_type": "stream",
          "name": "stdout",
          "text": [
            "2024-06-28 19:53:34.129774: E external/local_xla/xla/stream_executor/cuda/cuda_dnn.cc:9261] Unable to register cuDNN factory: Attempting to register factory for plugin cuDNN when one has already been registered\n",
            "2024-06-28 19:53:34.129827: E external/local_xla/xla/stream_executor/cuda/cuda_fft.cc:607] Unable to register cuFFT factory: Attempting to register factory for plugin cuFFT when one has already been registered\n",
            "2024-06-28 19:53:34.131256: E external/local_xla/xla/stream_executor/cuda/cuda_blas.cc:1515] Unable to register cuBLAS factory: Attempting to register factory for plugin cuBLAS when one has already been registered\n",
            "2024-06-28 19:53:34.138625: I tensorflow/core/platform/cpu_feature_guard.cc:182] This TensorFlow binary is optimized to use available CPU instructions in performance-critical operations.\n",
            "To enable the following instructions: AVX2 AVX512F FMA, in other operations, rebuild TensorFlow with the appropriate compiler flags.\n",
            "2024-06-28 19:53:35.151295: W tensorflow/compiler/tf2tensorrt/utils/py_utils.cc:38] TF-TRT Warning: Could not find TensorRT\n",
            "Loading latest experiment, id=1\n",
            "Loading logs/dqn/MsPacmanNoFrameskip-v4_1/MsPacmanNoFrameskip-v4.zip\n",
            "A.L.E: Arcade Learning Environment (version 0.8.1+53f58b7)\n",
            "[Powered by Stella]\n",
            "Stacking 4 frames\n",
            "Atari Episode Score: 420.00\n",
            "Atari Episode Length 1737\n",
            "Atari Episode Score: 980.00\n",
            "Atari Episode Length 2449\n",
            "Atari Episode Score: 460.00\n",
            "Atari Episode Length 2017\n",
            "Atari Episode Score: 2170.00\n",
            "Atari Episode Length 3041\n",
            "Atari Episode Score: 800.00\n",
            "Atari Episode Length 3785\n",
            "Atari Episode Score: 1450.00\n",
            "Atari Episode Length 2961\n",
            "Atari Episode Score: 1890.00\n",
            "Atari Episode Length 3273\n"
          ]
        }
      ]
    },
    {
      "cell_type": "code",
      "source": [
        "from google.colab import drive\n",
        "drive.mount('/content/drive')"
      ],
      "metadata": {
        "id": "wNW-K6KqjE8v"
      },
      "execution_count": null,
      "outputs": []
    },
    {
      "cell_type": "markdown",
      "source": [
        "# **Push to Hub**"
      ],
      "metadata": {
        "id": "aR6gu2SqxPXa"
      }
    },
    {
      "cell_type": "code",
      "source": [
        "from huggingface_hub import notebook_login\n",
        "notebook_login()\n",
        "!git config --global credential.helper store"
      ],
      "metadata": {
        "id": "njbrPkIxaHD5",
        "outputId": "0c38cd11-6978-48fb-98c8-435ff27f3a08",
        "colab": {
          "base_uri": "https://localhost:8080/",
          "height": 145,
          "referenced_widgets": [
            "77d9d93a4eb64576a4c2dfe5c0468ebc",
            "a09ef556f9ef4ee2ac21219579798c2c",
            "5dee28e475f847a08a421e837fe063eb",
            "d63213e27ba942c495f55674d00cd9a6",
            "dc9305c985e24e73872fe2491c361a01",
            "8ad2cb89048149e487f341647a20fba2",
            "ee99bde9ccc94d899a7c0b90c49eacb8",
            "03106fe32b5b4f3da6b71853cceb8bf2",
            "977757d33d7c483bb4d2badec2457b71",
            "c74ae0d7e2334516be6e0cf67b336477",
            "c316913b60974ada8088d899b1c57d9c",
            "a8913142e3864462a8fa3bf0368931d6",
            "7871fc52ea71487fa3c499783c90de7a",
            "f7f8bcee7f8140a298837edf2747281f",
            "203d65ff03674b7ebf24665da63707e8",
            "753156c4825f49beb25f835793195850",
            "10de2577989348baaceb1071c9128fed",
            "7924a9bbf4c142cebddb356edbf6fae4",
            "c47cbec7631d4960acc969717813cdcf",
            "814062350b64470d93dc0ccde7f48793",
            "8167420ce7b54add97f697766068c053",
            "7f0352d1ba6d44688bda3fe4870d4d3c",
            "f27165469ca24ddf8db81857d5de6b85",
            "e6fe4ef250344ac5ab57e83c1a5902f6",
            "c6bf768b12c84d3aa953e4003b6a743b",
            "f1d26d5f9c004dd9b11dbf3f54191e25",
            "0db8440227684b61ac1449b6f5a92a5a",
            "be622ea52ed4422db4cc5de057aaaf67",
            "6a6c06587d084e7f91fc4ee0e3dcc020",
            "3f180d2d4bd2433ebbf6c52fcf8346cb",
            "204816bcaaf84678bdeabbebb5182758",
            "cc9a6a644d6f451298df9d15256e29ff"
          ]
        }
      },
      "execution_count": null,
      "outputs": [
        {
          "output_type": "display_data",
          "data": {
            "text/plain": [
              "VBox(children=(HTML(value='<center> <img\\nsrc=https://huggingface.co/front/assets/huggingface_logo-noborder.sv…"
            ],
            "application/vnd.jupyter.widget-view+json": {
              "version_major": 2,
              "version_minor": 0,
              "model_id": "77d9d93a4eb64576a4c2dfe5c0468ebc"
            }
          },
          "metadata": {}
        }
      ]
    },
    {
      "cell_type": "code",
      "source": [
        "!python -m rl_zoo3.push_to_hub --algo dqn --env MsPacmanNoFrameskip-v4 --repo-name dqn-MsPacmanNoFrameskip-3556 --orga Alamport -f logs/"
      ],
      "metadata": {
        "id": "O8L9NfCZaT0z",
        "outputId": "9b90279f-8bd8-4340-ac27-7992ad6907ea",
        "colab": {
          "base_uri": "https://localhost:8080/"
        }
      },
      "execution_count": null,
      "outputs": [
        {
          "output_type": "stream",
          "name": "stdout",
          "text": [
            "2024-06-28 20:04:14.130549: E external/local_xla/xla/stream_executor/cuda/cuda_dnn.cc:9261] Unable to register cuDNN factory: Attempting to register factory for plugin cuDNN when one has already been registered\n",
            "2024-06-28 20:04:14.130597: E external/local_xla/xla/stream_executor/cuda/cuda_fft.cc:607] Unable to register cuFFT factory: Attempting to register factory for plugin cuFFT when one has already been registered\n",
            "2024-06-28 20:04:14.131860: E external/local_xla/xla/stream_executor/cuda/cuda_blas.cc:1515] Unable to register cuBLAS factory: Attempting to register factory for plugin cuBLAS when one has already been registered\n",
            "2024-06-28 20:04:14.138559: I tensorflow/core/platform/cpu_feature_guard.cc:182] This TensorFlow binary is optimized to use available CPU instructions in performance-critical operations.\n",
            "To enable the following instructions: AVX2 AVX512F FMA, in other operations, rebuild TensorFlow with the appropriate compiler flags.\n",
            "2024-06-28 20:04:15.145168: W tensorflow/compiler/tf2tensorrt/utils/py_utils.cc:38] TF-TRT Warning: Could not find TensorRT\n",
            "Loading latest experiment, id=1\n",
            "Loading logs/dqn/MsPacmanNoFrameskip-v4_1/MsPacmanNoFrameskip-v4.zip\n",
            "A.L.E: Arcade Learning Environment (version 0.8.1+53f58b7)\n",
            "[Powered by Stella]\n",
            "Stacking 4 frames\n",
            "Wrapping the env in a VecTransposeImage.\n",
            "Uploading to Alamport/dqn-MsPacmanNoFrameskip-3556, make sure to have the rights\n",
            "\u001b[38;5;4mℹ This function will save, evaluate, generate a video of your agent,\n",
            "create a model card and push everything to the hub. It might take up to some\n",
            "minutes if video generation is activated. This is a work in progress: if you\n",
            "encounter a bug, please open an issue.\u001b[0m\n",
            "/usr/local/lib/python3.10/dist-packages/huggingface_hub/utils/_deprecation.py:131: FutureWarning: 'Repository' (from 'huggingface_hub.repository') is deprecated and will be removed from version '1.0'. Please prefer the http-based alternatives instead. Given its large adoption in legacy code, the complete removal is only planned on next major release.\n",
            "For more details, please read https://huggingface.co/docs/huggingface_hub/concepts/git_vs_http.\n",
            "  warnings.warn(warning_message, FutureWarning)\n",
            "Cloning https://huggingface.co/Alamport/dqn-MsPacmanNoFrameskip-3556 into local empty directory.\n",
            "WARNING:huggingface_hub.repository:Cloning https://huggingface.co/Alamport/dqn-MsPacmanNoFrameskip-3556 into local empty directory.\n",
            "Saving model to: hub/dqn-MsPacmanNoFrameskip-3556/dqn-MsPacmanNoFrameskip-v4\n",
            "/usr/local/lib/python3.10/dist-packages/gymnasium/utils/passive_env_checker.py:335: UserWarning: \u001b[33mWARN: No render fps was declared in the environment (env.metadata['render_fps'] is None or not defined), rendering may occur at inconsistent fps.\u001b[0m\n",
            "  logger.warn(\n",
            "Saving video to /tmp/tmpivo4w3gh/-step-0-to-step-1000.mp4\n",
            "Moviepy - Building video /tmp/tmpivo4w3gh/-step-0-to-step-1000.mp4.\n",
            "Moviepy - Writing video /tmp/tmpivo4w3gh/-step-0-to-step-1000.mp4\n",
            "\n",
            "Moviepy - Done !\n",
            "Moviepy - video ready /tmp/tmpivo4w3gh/-step-0-to-step-1000.mp4\n",
            "ffmpeg version 4.4.2-0ubuntu0.22.04.1 Copyright (c) 2000-2021 the FFmpeg developers\n",
            "  built with gcc 11 (Ubuntu 11.2.0-19ubuntu1)\n",
            "  configuration: --prefix=/usr --extra-version=0ubuntu0.22.04.1 --toolchain=hardened --libdir=/usr/lib/x86_64-linux-gnu --incdir=/usr/include/x86_64-linux-gnu --arch=amd64 --enable-gpl --disable-stripping --enable-gnutls --enable-ladspa --enable-libaom --enable-libass --enable-libbluray --enable-libbs2b --enable-libcaca --enable-libcdio --enable-libcodec2 --enable-libdav1d --enable-libflite --enable-libfontconfig --enable-libfreetype --enable-libfribidi --enable-libgme --enable-libgsm --enable-libjack --enable-libmp3lame --enable-libmysofa --enable-libopenjpeg --enable-libopenmpt --enable-libopus --enable-libpulse --enable-librabbitmq --enable-librubberband --enable-libshine --enable-libsnappy --enable-libsoxr --enable-libspeex --enable-libsrt --enable-libssh --enable-libtheora --enable-libtwolame --enable-libvidstab --enable-libvorbis --enable-libvpx --enable-libwebp --enable-libx265 --enable-libxml2 --enable-libxvid --enable-libzimg --enable-libzmq --enable-libzvbi --enable-lv2 --enable-omx --enable-openal --enable-opencl --enable-opengl --enable-sdl2 --enable-pocketsphinx --enable-librsvg --enable-libmfx --enable-libdc1394 --enable-libdrm --enable-libiec61883 --enable-chromaprint --enable-frei0r --enable-libx264 --enable-shared\n",
            "  libavutil      56. 70.100 / 56. 70.100\n",
            "  libavcodec     58.134.100 / 58.134.100\n",
            "  libavformat    58. 76.100 / 58. 76.100\n",
            "  libavdevice    58. 13.100 / 58. 13.100\n",
            "  libavfilter     7.110.100 /  7.110.100\n",
            "  libswscale      5.  9.100 /  5.  9.100\n",
            "  libswresample   3.  9.100 /  3.  9.100\n",
            "  libpostproc    55.  9.100 / 55.  9.100\n",
            "Input #0, mov,mp4,m4a,3gp,3g2,mj2, from '/tmp/tmpivo4w3gh/-step-0-to-step-1000.mp4':\n",
            "  Metadata:\n",
            "    major_brand     : isom\n",
            "    minor_version   : 512\n",
            "    compatible_brands: isomiso2avc1mp41\n",
            "    encoder         : Lavf58.29.100\n",
            "  Duration: 00:00:33.40, start: 0.000000, bitrate: 57 kb/s\n",
            "  Stream #0:0(und): Video: h264 (High) (avc1 / 0x31637661), yuv420p, 160x210, 54 kb/s, 30 fps, 30 tbr, 15360 tbn, 60 tbc (default)\n",
            "    Metadata:\n",
            "      handler_name    : VideoHandler\n",
            "      vendor_id       : [0][0][0][0]\n",
            "Stream mapping:\n",
            "  Stream #0:0 -> #0:0 (h264 (native) -> h264 (libx264))\n",
            "Press [q] to stop, [?] for help\n",
            "\u001b[1;36m[libx264 @ 0x5c7714262c40] \u001b[0musing cpu capabilities: MMX2 SSE2Fast SSSE3 SSE4.2 AVX FMA3 BMI2 AVX2 AVX512\n",
            "\u001b[1;36m[libx264 @ 0x5c7714262c40] \u001b[0mprofile High, level 1.2, 4:2:0, 8-bit\n",
            "\u001b[1;36m[libx264 @ 0x5c7714262c40] \u001b[0m264 - core 163 r3060 5db6aa6 - H.264/MPEG-4 AVC codec - Copyleft 2003-2021 - http://www.videolan.org/x264.html - options: cabac=1 ref=3 deblock=1:0:0 analyse=0x3:0x113 me=hex subme=7 psy=1 psy_rd=1.00:0.00 mixed_ref=1 me_range=16 chroma_me=1 trellis=1 8x8dct=1 cqm=0 deadzone=21,11 fast_pskip=1 chroma_qp_offset=-2 threads=3 lookahead_threads=1 sliced_threads=0 nr=0 decimate=1 interlaced=0 bluray_compat=0 constrained_intra=0 bframes=3 b_pyramid=2 b_adapt=1 b_bias=0 direct=1 weightb=1 open_gop=0 weightp=2 keyint=250 keyint_min=25 scenecut=40 intra_refresh=0 rc_lookahead=40 rc=crf mbtree=1 crf=23.0 qcomp=0.60 qpmin=0 qpmax=69 qpstep=4 ip_ratio=1.40 aq=1:1.00\n",
            "Output #0, mp4, to 'hub/dqn-MsPacmanNoFrameskip-3556/replay.mp4':\n",
            "  Metadata:\n",
            "    major_brand     : isom\n",
            "    minor_version   : 512\n",
            "    compatible_brands: isomiso2avc1mp41\n",
            "    encoder         : Lavf58.76.100\n",
            "  Stream #0:0(und): Video: h264 (avc1 / 0x31637661), yuv420p(progressive), 160x210, q=2-31, 30 fps, 15360 tbn (default)\n",
            "    Metadata:\n",
            "      handler_name    : VideoHandler\n",
            "      vendor_id       : [0][0][0][0]\n",
            "      encoder         : Lavc58.134.100 libx264\n",
            "    Side data:\n",
            "      cpb: bitrate max/min/avg: 0/0/0 buffer size: 0 vbv_delay: N/A\n",
            "frame= 1002 fps=0.0 q=-1.0 Lsize=     226kB time=00:00:33.30 bitrate=  55.6kbits/s speed=45.6x    \n",
            "video:214kB audio:0kB subtitle:0kB other streams:0kB global headers:0kB muxing overhead: 5.769450%\n",
            "\u001b[1;36m[libx264 @ 0x5c7714262c40] \u001b[0mframe I:5     Avg QP:22.16  size:  5785\n",
            "\u001b[1;36m[libx264 @ 0x5c7714262c40] \u001b[0mframe P:334   Avg QP:27.80  size:   294\n",
            "\u001b[1;36m[libx264 @ 0x5c7714262c40] \u001b[0mframe B:663   Avg QP:33.55  size:   137\n",
            "\u001b[1;36m[libx264 @ 0x5c7714262c40] \u001b[0mconsecutive B-frames:  5.4% 17.4%  5.4% 71.9%\n",
            "\u001b[1;36m[libx264 @ 0x5c7714262c40] \u001b[0mmb I  I16..4:  4.9% 11.6% 83.6%\n",
            "\u001b[1;36m[libx264 @ 0x5c7714262c40] \u001b[0mmb P  I16..4:  0.0%  0.0%  0.2%  P16..4:  5.4%  1.5%  1.2%  0.0%  0.0%    skip:91.6%\n",
            "\u001b[1;36m[libx264 @ 0x5c7714262c40] \u001b[0mmb B  I16..4:  0.0%  0.0%  0.0%  B16..8:  5.9%  1.2%  0.6%  direct: 0.8%  skip:91.5%  L0:51.6% L1:44.3% BI: 4.0%\n",
            "\u001b[1;36m[libx264 @ 0x5c7714262c40] \u001b[0m8x8 transform intra:11.2% inter:5.1%\n",
            "\u001b[1;36m[libx264 @ 0x5c7714262c40] \u001b[0mcoded y,uvDC,uvAC intra: 52.8% 84.7% 82.2% inter: 1.7% 3.5% 3.3%\n",
            "\u001b[1;36m[libx264 @ 0x5c7714262c40] \u001b[0mi16 v,h,dc,p: 46% 49%  5%  0%\n",
            "\u001b[1;36m[libx264 @ 0x5c7714262c40] \u001b[0mi8 v,h,dc,ddl,ddr,vr,hd,vl,hu: 56% 16% 28%  0%  0%  0%  0%  0%  0%\n",
            "\u001b[1;36m[libx264 @ 0x5c7714262c40] \u001b[0mi4 v,h,dc,ddl,ddr,vr,hd,vl,hu: 59% 25% 12%  1%  1%  1%  1%  1%  1%\n",
            "\u001b[1;36m[libx264 @ 0x5c7714262c40] \u001b[0mi8c dc,h,v,p: 36% 31% 30%  2%\n",
            "\u001b[1;36m[libx264 @ 0x5c7714262c40] \u001b[0mWeighted P-Frames: Y:0.0% UV:0.0%\n",
            "\u001b[1;36m[libx264 @ 0x5c7714262c40] \u001b[0mref P L0: 51.2%  3.1% 29.5% 16.2%\n",
            "\u001b[1;36m[libx264 @ 0x5c7714262c40] \u001b[0mref B L0: 71.8% 24.9%  3.4%\n",
            "\u001b[1;36m[libx264 @ 0x5c7714262c40] \u001b[0mref B L1: 95.7%  4.3%\n",
            "\u001b[1;36m[libx264 @ 0x5c7714262c40] \u001b[0mkb/s:52.26\n",
            "\u001b[38;5;4mℹ Pushing repo dqn-MsPacmanNoFrameskip-3556 to the Hugging Face Hub\u001b[0m\n",
            "Upload file dqn-MsPacmanNoFrameskip-v4.zip:   0% 1.00/26.0M [00:00<?, ?B/s]\n",
            "Upload file dqn-MsPacmanNoFrameskip-v4/pytorch_variables.pth:   0% 1.00/864 [00:00<?, ?B/s]\u001b[A\n",
            "\n",
            "Upload file train_eval_metrics.zip:   0% 1.00/30.7k [00:00<?, ?B/s]\u001b[A\u001b[A\n",
            "\n",
            "\n",
            "Upload file replay.mp4:   0% 1.00/226k [00:00<?, ?B/s]\u001b[A\u001b[A\u001b[A\n",
            "\n",
            "\n",
            "\n",
            "Upload file dqn-MsPacmanNoFrameskip-v4/policy.optimizer.pth:   0% 1.00/12.9M [00:00<?, ?B/s]\u001b[A\u001b[A\u001b[A\u001b[A\n",
            "\n",
            "\n",
            "\n",
            "\n",
            "Upload file dqn-MsPacmanNoFrameskip-v4/policy.pth:   0% 1.00/12.9M [00:00<?, ?B/s]\u001b[A\u001b[A\u001b[A\u001b[A\u001b[A\n",
            "\n",
            "\n",
            "\n",
            "\n",
            "Upload file dqn-MsPacmanNoFrameskip-v4/policy.pth: 15.3MB [00:01, 16.0MB/s]       \u001b[A\u001b[A\u001b[A\u001b[A\u001b[A\n",
            "\n",
            "\n",
            "\n",
            "Upload file dqn-MsPacmanNoFrameskip-v4.zip: 30.5MB [00:02, 16.0MB/s]                To https://huggingface.co/Alamport/dqn-MsPacmanNoFrameskip-3556\n",
            "   b3f9222..72c2eb9  main -> main\n",
            "\n",
            "WARNING:huggingface_hub.repository:To https://huggingface.co/Alamport/dqn-MsPacmanNoFrameskip-3556\n",
            "   b3f9222..72c2eb9  main -> main\n",
            "\n",
            "Upload file dqn-MsPacmanNoFrameskip-v4.zip: 100% 26.0M/26.0M [00:03<00:00, 9.06MB/s]\n",
            "\n",
            "Upload file dqn-MsPacmanNoFrameskip-v4/pytorch_variables.pth: 100% 864/864 [00:03<00:00, 5.32MB/s]\u001b[A\n",
            "Upload file dqn-MsPacmanNoFrameskip-v4/pytorch_variables.pth: 100% 864/864 [00:03<00:00, 287B/s]  \n",
            "\n",
            "\n",
            "Upload file train_eval_metrics.zip: 100% 30.7k/30.7k [00:03<00:00, 5.32MB/s]\u001b[A\u001b[A\n",
            "\n",
            "Upload file train_eval_metrics.zip: 100% 30.7k/30.7k [00:03<00:00, 10.5kB/s]\n",
            "\n",
            "\n",
            "\n",
            "Upload file replay.mp4: 100% 226k/226k [00:03<00:00, 5.32MB/s]\u001b[A\u001b[A\u001b[A\n",
            "\n",
            "\n",
            "Upload file replay.mp4: 100% 226k/226k [00:03<00:00, 77.0kB/s]\n",
            "\n",
            "\n",
            "\n",
            "\n",
            "Upload file dqn-MsPacmanNoFrameskip-v4/policy.optimizer.pth: 100% 12.9M/12.9M [00:03<00:00, 4.50MB/s]\n",
            "\n",
            "\n",
            "\n",
            "\n",
            "\n",
            "Upload file dqn-MsPacmanNoFrameskip-v4/policy.pth: 100% 12.9M/12.9M [00:03<00:00, 4.50MB/s]\n",
            "\u001b[38;5;4mℹ Your model is pushed to the hub. You can view your model here:\n",
            "https://huggingface.co/Alamport/dqn-MsPacmanNoFrameskip-3556\u001b[0m\n"
          ]
        }
      ]
    },
    {
      "cell_type": "code",
      "source": [],
      "metadata": {
        "id": "GX9_mtsZccZG"
      },
      "execution_count": null,
      "outputs": []
    }
  ]
}